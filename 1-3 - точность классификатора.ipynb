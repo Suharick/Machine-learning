{
 "cells": [
  {
   "cell_type": "markdown",
   "id": "adult-concentration",
   "metadata": {},
   "source": [
    "   ## Оценка точности работы классификатора с помощью обучающей и тестовой выборок"
   ]
  },
  {
   "cell_type": "code",
   "execution_count": 12,
   "id": "otherwise-impression",
   "metadata": {},
   "outputs": [],
   "source": [
    "from sklearn import datasets\n",
    "import pandas as pd\n",
    "import numpy as np\n",
    "import matplotlib.pyplot as plt\n",
    "plt.style.use('ggplot') #для красоты\n",
    "from sklearn.neighbors import KNeighborsClassifier"
   ]
  },
  {
   "cell_type": "code",
   "execution_count": 2,
   "id": "virtual-movie",
   "metadata": {},
   "outputs": [],
   "source": [
    "iris = datasets.load_iris()"
   ]
  },
  {
   "cell_type": "code",
   "execution_count": 8,
   "id": "encouraging-joining",
   "metadata": {},
   "outputs": [],
   "source": [
    "# обозначим через Х - данные, Y - значения целевой функции\n",
    "X = iris.data\n",
    "y = iris.target"
   ]
  },
  {
   "cell_type": "code",
   "execution_count": 9,
   "id": "subject-tracy",
   "metadata": {},
   "outputs": [],
   "source": [
    "# импортируем разделение теста обучения из выбранной точности модели sklearn\n",
    "from sklearn.model_selection import train_test_split"
   ]
  },
  {
   "cell_type": "code",
   "execution_count": 10,
   "id": "fewer-complement",
   "metadata": {},
   "outputs": [],
   "source": [
    "# используем функцию разделения теста обучения, чтобы случайным образом разделить данные\n",
    "# аргументы: данные объекта; целевые значения функции (метки); test_size - какая часть исходных данных будет использоваться \n",
    "# для тестов (30%); random_state - устанавливает начальное число для генератора случайных чисел, который разделяет данные на \n",
    "# обучающие и тестовые; stratify необходим, чтобы разбиение отражало метки данных, т. е. метки распределялись в обучающих и \n",
    "# тестовых выборках как они есть в исходном наборе данных => y - список/массив, содержащий метки.\n",
    "\n",
    "X_train, X_test, y_train, y_test = train_test_split(X, y, test_size = 0.3, random_state = 21, stratify = y)"
   ]
  },
  {
   "cell_type": "markdown",
   "id": "global-medication",
   "metadata": {},
   "source": [
    "X_train, X_test, y_train, y_test - данные обучения, данные теста, метки обучения, метки теста"
   ]
  },
  {
   "cell_type": "code",
   "execution_count": 13,
   "id": "premium-privacy",
   "metadata": {},
   "outputs": [],
   "source": [
    "knn = KNeighborsClassifier(n_neighbors = 8)"
   ]
  },
  {
   "cell_type": "code",
   "execution_count": 14,
   "id": "judicial-destination",
   "metadata": {},
   "outputs": [
    {
     "data": {
      "text/plain": [
       "KNeighborsClassifier(n_neighbors=8)"
      ]
     },
     "execution_count": 14,
     "metadata": {},
     "output_type": "execute_result"
    }
   ],
   "source": [
    "knn.fit(X_train, y_train)"
   ]
  },
  {
   "cell_type": "code",
   "execution_count": 15,
   "id": "meaning-research",
   "metadata": {},
   "outputs": [],
   "source": [
    "prediction = knn.predict(X_test)"
   ]
  },
  {
   "cell_type": "code",
   "execution_count": 17,
   "id": "differential-sauce",
   "metadata": {},
   "outputs": [
    {
     "name": "stdout",
     "output_type": "stream",
     "text": [
      "Test set predictions:\n",
      " [2 1 2 2 1 0 1 0 0 1 0 2 0 2 2 0 0 0 1 0 2 2 2 0 1 1 1 0 0 1 2 2 0 0 1 2 2\n",
      " 1 1 2 1 1 0 2 1]\n"
     ]
    }
   ],
   "source": [
    "print('Test set predictions:\\n {}'.format(prediction))"
   ]
  },
  {
   "cell_type": "markdown",
   "id": "collective-pilot",
   "metadata": {},
   "source": [
    "### Проверим точность полученной модели"
   ]
  },
  {
   "cell_type": "code",
   "execution_count": 18,
   "id": "worth-restriction",
   "metadata": {},
   "outputs": [
    {
     "data": {
      "text/plain": [
       "0.9555555555555556"
      ]
     },
     "execution_count": 18,
     "metadata": {},
     "output_type": "execute_result"
    }
   ],
   "source": [
    "knn.score(X_test, y_test)"
   ]
  },
  {
   "cell_type": "code",
   "execution_count": null,
   "id": "bibliographic-greene",
   "metadata": {},
   "outputs": [],
   "source": []
  }
 ],
 "metadata": {
  "kernelspec": {
   "display_name": "Python 3",
   "language": "python",
   "name": "python3"
  },
  "language_info": {
   "codemirror_mode": {
    "name": "ipython",
    "version": 3
   },
   "file_extension": ".py",
   "mimetype": "text/x-python",
   "name": "python",
   "nbconvert_exporter": "python",
   "pygments_lexer": "ipython3",
   "version": "3.9.2"
  }
 },
 "nbformat": 4,
 "nbformat_minor": 5
}

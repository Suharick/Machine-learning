{
 "cells": [
  {
   "cell_type": "markdown",
   "id": "regulated-train",
   "metadata": {},
   "source": [
    "# Введение в регрессию"
   ]
  },
  {
   "cell_type": "code",
   "execution_count": 3,
   "id": "mexican-civilization",
   "metadata": {},
   "outputs": [],
   "source": [
    "from sklearn import datasets\n",
    "import pandas as pd\n",
    "import numpy as np\n",
    "import matplotlib.pyplot as plt\n",
    "plt.style.use('ggplot') #для красоты"
   ]
  },
  {
   "cell_type": "code",
   "execution_count": 11,
   "id": "liberal-sodium",
   "metadata": {},
   "outputs": [
    {
     "data": {
      "text/html": [
       "<div>\n",
       "<style scoped>\n",
       "    .dataframe tbody tr th:only-of-type {\n",
       "        vertical-align: middle;\n",
       "    }\n",
       "\n",
       "    .dataframe tbody tr th {\n",
       "        vertical-align: top;\n",
       "    }\n",
       "\n",
       "    .dataframe thead th {\n",
       "        text-align: right;\n",
       "    }\n",
       "</style>\n",
       "<table border=\"1\" class=\"dataframe\">\n",
       "  <thead>\n",
       "    <tr style=\"text-align: right;\">\n",
       "      <th></th>\n",
       "      <th>CRIM</th>\n",
       "      <th>ZN</th>\n",
       "      <th>INDUS</th>\n",
       "      <th>CHAS</th>\n",
       "      <th>NOX</th>\n",
       "      <th>RM</th>\n",
       "      <th>AGE</th>\n",
       "      <th>DIS</th>\n",
       "      <th>RAD</th>\n",
       "      <th>TAX</th>\n",
       "      <th>PTRATIO</th>\n",
       "      <th>B</th>\n",
       "      <th>LSTAT</th>\n",
       "      <th>MEDV</th>\n",
       "    </tr>\n",
       "  </thead>\n",
       "  <tbody>\n",
       "    <tr>\n",
       "      <th>0</th>\n",
       "      <td>0.00632</td>\n",
       "      <td>18.0</td>\n",
       "      <td>2.31</td>\n",
       "      <td>0</td>\n",
       "      <td>0.538</td>\n",
       "      <td>6.575</td>\n",
       "      <td>65.2</td>\n",
       "      <td>4.0900</td>\n",
       "      <td>1</td>\n",
       "      <td>296.0</td>\n",
       "      <td>15.3</td>\n",
       "      <td>396.90</td>\n",
       "      <td>4.98</td>\n",
       "      <td>24.0</td>\n",
       "    </tr>\n",
       "    <tr>\n",
       "      <th>1</th>\n",
       "      <td>0.02731</td>\n",
       "      <td>0.0</td>\n",
       "      <td>7.07</td>\n",
       "      <td>0</td>\n",
       "      <td>0.469</td>\n",
       "      <td>6.421</td>\n",
       "      <td>78.9</td>\n",
       "      <td>4.9671</td>\n",
       "      <td>2</td>\n",
       "      <td>242.0</td>\n",
       "      <td>17.8</td>\n",
       "      <td>396.90</td>\n",
       "      <td>9.14</td>\n",
       "      <td>21.6</td>\n",
       "    </tr>\n",
       "    <tr>\n",
       "      <th>2</th>\n",
       "      <td>0.02729</td>\n",
       "      <td>0.0</td>\n",
       "      <td>7.07</td>\n",
       "      <td>0</td>\n",
       "      <td>0.469</td>\n",
       "      <td>7.185</td>\n",
       "      <td>61.1</td>\n",
       "      <td>4.9671</td>\n",
       "      <td>2</td>\n",
       "      <td>242.0</td>\n",
       "      <td>17.8</td>\n",
       "      <td>392.83</td>\n",
       "      <td>4.03</td>\n",
       "      <td>34.7</td>\n",
       "    </tr>\n",
       "    <tr>\n",
       "      <th>3</th>\n",
       "      <td>0.03237</td>\n",
       "      <td>0.0</td>\n",
       "      <td>2.18</td>\n",
       "      <td>0</td>\n",
       "      <td>0.458</td>\n",
       "      <td>6.998</td>\n",
       "      <td>45.8</td>\n",
       "      <td>6.0622</td>\n",
       "      <td>3</td>\n",
       "      <td>222.0</td>\n",
       "      <td>18.7</td>\n",
       "      <td>394.63</td>\n",
       "      <td>2.94</td>\n",
       "      <td>33.4</td>\n",
       "    </tr>\n",
       "    <tr>\n",
       "      <th>4</th>\n",
       "      <td>0.06905</td>\n",
       "      <td>0.0</td>\n",
       "      <td>2.18</td>\n",
       "      <td>0</td>\n",
       "      <td>0.458</td>\n",
       "      <td>7.147</td>\n",
       "      <td>54.2</td>\n",
       "      <td>6.0622</td>\n",
       "      <td>3</td>\n",
       "      <td>222.0</td>\n",
       "      <td>18.7</td>\n",
       "      <td>396.90</td>\n",
       "      <td>5.33</td>\n",
       "      <td>36.2</td>\n",
       "    </tr>\n",
       "  </tbody>\n",
       "</table>\n",
       "</div>"
      ],
      "text/plain": [
       "      CRIM    ZN  INDUS  CHAS    NOX     RM   AGE     DIS  RAD    TAX  \\\n",
       "0  0.00632  18.0   2.31     0  0.538  6.575  65.2  4.0900    1  296.0   \n",
       "1  0.02731   0.0   7.07     0  0.469  6.421  78.9  4.9671    2  242.0   \n",
       "2  0.02729   0.0   7.07     0  0.469  7.185  61.1  4.9671    2  242.0   \n",
       "3  0.03237   0.0   2.18     0  0.458  6.998  45.8  6.0622    3  222.0   \n",
       "4  0.06905   0.0   2.18     0  0.458  7.147  54.2  6.0622    3  222.0   \n",
       "\n",
       "   PTRATIO       B  LSTAT  MEDV  \n",
       "0     15.3  396.90   4.98  24.0  \n",
       "1     17.8  396.90   9.14  21.6  \n",
       "2     17.8  392.83   4.03  34.7  \n",
       "3     18.7  394.63   2.94  33.4  \n",
       "4     18.7  396.90   5.33  36.2  "
      ]
     },
     "execution_count": 11,
     "metadata": {},
     "output_type": "execute_result"
    }
   ],
   "source": [
    "filename = 'D:/Desktop/homework/Аналитический маркетинг/git/data/housing.csv'\n",
    "names = ['CRIM','ZN','INDUS','CHAS','NOX','RM','AGE','DIS','RAD','TAX','PTRATIO','B','LSTAT','MEDV']\n",
    "boston = pd.read_csv(filename, delim_whitespace=True, names=names) \n",
    "boston.head()"
   ]
  },
  {
   "cell_type": "markdown",
   "id": "august-glance",
   "metadata": {},
   "source": [
    "Значения столбцов:\n",
    "\n",
    "- CRIM - доля преступности\n",
    "- ZN - доля земли для застройки\n",
    "- INDUS - \n",
    "- CHAS - фиктивная переменная (1 - граничит с рекой, 0 - не граничет)\n",
    "- NOX - концентрация аксидов азота\n",
    "- RM - среднее кол-во комнат в доме\n",
    "- AGE - доля живых единиц до 1940\n",
    "- DIS - взвешанные растояния до 5 центров занятости\n",
    "- RAD - индекс доступности транспортных магистралей\n",
    "- TAX - ставка налоги на имущество\n",
    "- PTRATIO - соотношение количество учеников к учителям \n",
    "- B - доля чернокожих\n",
    "- LSTAT - доля населения низкого статуса\n",
    "\n",
    "- MEDV - РЕЗУЛЬТАТИЫНОЙ ПРИЗНАК - средняя стоимость домов"
   ]
  },
  {
   "cell_type": "code",
   "execution_count": 12,
   "id": "muslim-series",
   "metadata": {},
   "outputs": [],
   "source": [
    "X = boston.drop('MEDV', axis=1).values\n",
    "y = boston['MEDV'].values"
   ]
  },
  {
   "cell_type": "markdown",
   "id": "after-sample",
   "metadata": {},
   "source": [
    "Прогноз цены дома по одной характеристике: среднему кол-ву комнат в блоке"
   ]
  },
  {
   "cell_type": "code",
   "execution_count": 14,
   "id": "complimentary-liquid",
   "metadata": {},
   "outputs": [],
   "source": [
    "X_rooms = X[:,5]"
   ]
  },
  {
   "cell_type": "code",
   "execution_count": 15,
   "id": "single-photography",
   "metadata": {},
   "outputs": [
    {
     "data": {
      "text/plain": [
       "(numpy.ndarray, numpy.ndarray)"
      ]
     },
     "execution_count": 15,
     "metadata": {},
     "output_type": "execute_result"
    }
   ],
   "source": [
    "type(X_rooms), type(y)"
   ]
  },
  {
   "cell_type": "code",
   "execution_count": 16,
   "id": "correct-commissioner",
   "metadata": {},
   "outputs": [],
   "source": [
    "# переводим массивы numpy в желаемую форму, чтобы сохранить первое измерение, но добавить к Х еще одно измерение размера один\n",
    "y = y.reshape(-1,1)\n",
    "X_rooms = X_rooms.reshape(-1,1)"
   ]
  },
  {
   "cell_type": "markdown",
   "id": "visible-scale",
   "metadata": {},
   "source": [
    "### График стоимости дома как функция кол-ва комнат"
   ]
  },
  {
   "cell_type": "code",
   "execution_count": 17,
   "id": "brave-audience",
   "metadata": {},
   "outputs": [
    {
     "data": {
      "image/png": "[encoded data removed]",
      "text/plain": [
       "<Figure size 432x288 with 1 Axes>"
      ]
     },
     "metadata": {},
     "output_type": "display_data"
    }
   ],
   "source": [
    "plt.scatter(X_rooms, y)\n",
    "plt.ylabel('Value of house /1000 ($)')\n",
    "plt.xlabel('Number of rooms')\n",
    "plt.show()"
   ]
  },
  {
   "cell_type": "markdown",
   "id": "strategic-revelation",
   "metadata": {},
   "source": [
    "Наблюдается прямая зависимость цены дома от количества комнат"
   ]
  },
  {
   "cell_type": "markdown",
   "id": "senior-supplement",
   "metadata": {},
   "source": [
    "\n",
    "\n"
   ]
  },
  {
   "cell_type": "code",
   "execution_count": 18,
   "id": "accepting-secretariat",
   "metadata": {},
   "outputs": [],
   "source": [
    "from sklearn.linear_model import LinearRegression"
   ]
  },
  {
   "cell_type": "code",
   "execution_count": 19,
   "id": "seasonal-satellite",
   "metadata": {},
   "outputs": [],
   "source": [
    "# создаем экземпляр линейной регрессии\n",
    "reg = LinearRegression()"
   ]
  },
  {
   "cell_type": "code",
   "execution_count": 22,
   "id": "respected-truth",
   "metadata": {},
   "outputs": [],
   "source": [
    "# применяем регрессию к данным\n",
    "reg.fit(X_rooms, y)\n",
    "\n",
    "# проверяем прогнозы регрессии по диапазону данных (linspace между максимальным и минимальным количествам комнат) \n",
    "# и получаем прогноз на основе этих данных\n",
    "predict_space = np.linspace(min(X_rooms), max(X_rooms)).reshape(-1,1)"
   ]
  },
  {
   "cell_type": "markdown",
   "id": "sound-allocation",
   "metadata": {},
   "source": [
    "### Построение этой линии с диаграммой рассеяния"
   ]
  },
  {
   "cell_type": "code",
   "execution_count": 24,
   "id": "embedded-plant",
   "metadata": {},
   "outputs": [
    {
     "data": {
      "image/png": "[encoded data removed]",
      "text/plain": [
       "<Figure size 432x288 with 1 Axes>"
      ]
     },
     "metadata": {},
     "output_type": "display_data"
    }
   ],
   "source": [
    "plt.scatter(X_rooms, y, color = 'blue')\n",
    "plt.plot(predict_space, reg.predict(predict_space), color = 'red', linewidth = 3)\n",
    "plt.show()"
   ]
  },
  {
   "cell_type": "markdown",
   "id": "guilty-journal",
   "metadata": {},
   "source": [
    "# МНК в регрессии"
   ]
  },
  {
   "cell_type": "code",
   "execution_count": 25,
   "id": "welsh-certificate",
   "metadata": {},
   "outputs": [],
   "source": [
    "from sklearn.model_selection import train_test_split\n",
    "from sklearn.linear_model import LinearRegression"
   ]
  },
  {
   "cell_type": "code",
   "execution_count": 27,
   "id": "miniature-timber",
   "metadata": {},
   "outputs": [],
   "source": [
    "# разобьем данные на тестовую и обучающую выборки\n",
    "X_tran, X_test, y_train, y_test = train_test_split(X, y, test_size = 0.3, random_state = 42)\n",
    "\n",
    "# создаем экземпляр регрессора\n",
    "reg_all = LinearRegression()\n",
    "\n",
    "# помещаем его в обучающую выборку\n",
    "reg_all.fit(X_tran, y_train)\n",
    "\n",
    "# делаем прогноз на тестовой выборке\n",
    "y_pred = reg_all.predict(X_test)"
   ]
  },
  {
   "cell_type": "markdown",
   "id": "romance-producer",
   "metadata": {},
   "source": [
    "в классификации можно использовать точность как показатель производительности модели"
   ]
  },
  {
   "cell_type": "markdown",
   "id": "plastic-nickel",
   "metadata": {},
   "source": [
    "## R^2"
   ]
  },
  {
   "cell_type": "markdown",
   "id": "clean-pointer",
   "metadata": {},
   "source": [
    "метод оценки по умолчанию для линейной регрессии называется R^2: этот показатель позволяет оценить дисперсию целевой переменной, прогнозируемой на основе переменных характеристик"
   ]
  },
  {
   "cell_type": "code",
   "execution_count": 29,
   "id": "accurate-bristol",
   "metadata": {},
   "outputs": [
    {
     "name": "stdout",
     "output_type": "stream",
     "text": [
      "R^2 = 0.7112260057484955\n"
     ]
    }
   ],
   "source": [
    "# Вычислим R^2, применяя оценку метода к модели и передавая ей 2 аргумента: тестовые данные и целевые тестовые данные\n",
    "r2 = reg_all.score(X_test, y_test)\n",
    "print('R^2 =', r2)"
   ]
  },
  {
   "cell_type": "markdown",
   "id": "swiss-number",
   "metadata": {},
   "source": [
    "Но мы хотим использовать регуляризацию, которая накладывает доп ограничения на коэффициенты модели"
   ]
  },
  {
   "cell_type": "markdown",
   "id": "thirty-parcel",
   "metadata": {},
   "source": [
    "## Cross Validation"
   ]
  },
  {
   "cell_type": "code",
   "execution_count": 30,
   "id": "structured-valve",
   "metadata": {},
   "outputs": [],
   "source": [
    "from sklearn.model_selection import cross_val_score\n",
    "from sklearn.linear_model import LinearRegression"
   ]
  },
  {
   "cell_type": "code",
   "execution_count": 31,
   "id": "fiscal-coating",
   "metadata": {},
   "outputs": [],
   "source": [
    "# создаем экземпляр модели (в данном случае регрессора)\n",
    "reg = LinearRegression()"
   ]
  },
  {
   "cell_type": "code",
   "execution_count": 33,
   "id": "inner-inspiration",
   "metadata": {},
   "outputs": [
    {
     "data": {
      "text/plain": [
       "array([ 0.63919994,  0.71386698,  0.58702344,  0.07923081, -0.25294154])"
      ]
     },
     "execution_count": 33,
     "metadata": {},
     "output_type": "execute_result"
    }
   ],
   "source": [
    "# вызываем оценку CV с помощью регрессора, массива функций и целевой переменной\n",
    "# cv = 5 означает, что данные поделятся на 5 частей\n",
    "cv_results = cross_val_score(reg, X, y, cv = 5)\n",
    "\n",
    "# возвращает массив оценок перекрестной проверки (R^2 по умолчанию), длина = 5 = cv\n",
    "cv_results"
   ]
  },
  {
   "cell_type": "code",
   "execution_count": 34,
   "id": "professional-presentation",
   "metadata": {},
   "outputs": [
    {
     "data": {
      "text/plain": [
       "0.35327592439588273"
      ]
     },
     "execution_count": 34,
     "metadata": {},
     "output_type": "execute_result"
    }
   ],
   "source": [
    "# вычислим среднее значение R^2\n",
    "np.mean(cv_results)"
   ]
  },
  {
   "cell_type": "markdown",
   "id": "impaired-joyce",
   "metadata": {},
   "source": [
    "# Гребневая регрессия"
   ]
  },
  {
   "cell_type": "code",
   "execution_count": 35,
   "id": "sound-bishop",
   "metadata": {},
   "outputs": [],
   "source": [
    "from sklearn.linear_model import Ridge"
   ]
  },
  {
   "cell_type": "code",
   "execution_count": 36,
   "id": "nutritional-metadata",
   "metadata": {},
   "outputs": [
    {
     "data": {
      "text/plain": [
       "0.6996938275127313"
      ]
     },
     "execution_count": 36,
     "metadata": {},
     "output_type": "execute_result"
    }
   ],
   "source": [
    "# разобьем данные на тестовую и обучающую выборки\n",
    "X_tran, X_test, y_train, y_test = train_test_split(X, y, test_size = 0.3, random_state = 42)\n",
    "\n",
    "# создаем экземпляр регрессора (адаптируемся к обучению)\n",
    "# normalize - если True, то гарантированно все переменные находятся в одной шкале\n",
    "ridge = Ridge(alpha = 0.1, normalize = True)\n",
    "\n",
    "# помещаем его в обучающую выборку\n",
    "ridge.fit(X_tran, y_train)\n",
    "\n",
    "# делаем прогноз на тестовой выборке\n",
    "ridge_pred = ridge.predict(X_test)\n",
    "\n",
    "# вычислим R^2, применяя оценку метода к модели\n",
    "ridge.score(X_test, y_test)"
   ]
  },
  {
   "cell_type": "markdown",
   "id": "advisory-boring",
   "metadata": {},
   "source": [
    " # Регрессия Лассо"
   ]
  },
  {
   "cell_type": "code",
   "execution_count": 37,
   "id": "attached-macro",
   "metadata": {},
   "outputs": [],
   "source": [
    "from sklearn.linear_model import Lasso"
   ]
  },
  {
   "cell_type": "code",
   "execution_count": 38,
   "id": "short-insider",
   "metadata": {},
   "outputs": [
    {
     "data": {
      "text/plain": [
       "0.5950229535328551"
      ]
     },
     "execution_count": 38,
     "metadata": {},
     "output_type": "execute_result"
    }
   ],
   "source": [
    "# разобьем данные на тестовую и обучающую выборки\n",
    "X_tran, X_test, y_train, y_test = train_test_split(X, y, test_size = 0.3, random_state = 42)\n",
    "\n",
    "# создаем экземпляр регрессора (адаптируемся к обучению)\n",
    "# normalize - если True, то гарантированно все переменные находятся в одной шкале\n",
    "lasso = Lasso(alpha = 0.1, normalize = True)\n",
    "\n",
    "# помещаем его в обучающую выборку\n",
    "lasso.fit(X_tran, y_train)\n",
    "\n",
    "# делаем прогноз на тестовой выборке\n",
    "lasso_pred = lasso.predict(X_test)\n",
    "\n",
    "# вычислим R^2, применяя оценку метода к модели\n",
    "lasso.score(X_test, y_test)"
   ]
  },
  {
   "cell_type": "markdown",
   "id": "dense-lending",
   "metadata": {},
   "source": [
    "алгоритм LASSO определяет важные и неважные признаки:"
   ]
  },
  {
   "cell_type": "code",
   "execution_count": 40,
   "id": "medium-fruit",
   "metadata": {},
   "outputs": [
    {
     "name": "stdout",
     "output_type": "stream",
     "text": [
      "Index(['CRIM', 'ZN', 'INDUS', 'CHAS', 'NOX', 'RM', 'AGE', 'DIS', 'RAD', 'TAX',\n",
      "       'PTRATIO', 'B', 'LSTAT'],\n",
      "      dtype='object')\n"
     ]
    }
   ],
   "source": [
    "# сохраняем имена столбцов \n",
    "names = boston.drop('MEDV', axis = 1).columns\n",
    "names"
   ]
  },
  {
   "cell_type": "code",
   "execution_count": 42,
   "id": "aggressive-graphic",
   "metadata": {},
   "outputs": [
    {
     "data": {
      "text/plain": [
       "array([-0.09789363,  0.04921111, -0.03661906,  0.95519003, -0.        ,\n",
       "        3.70320175, -0.01003698, -1.16053834,  0.27470721, -0.01457017,\n",
       "       -0.77065434,  0.01024917, -0.56876914])"
      ]
     },
     "execution_count": 42,
     "metadata": {},
     "output_type": "execute_result"
    }
   ],
   "source": [
    "lasso = Lasso(alpha = 0.1)\n",
    "lasso_coef = lasso.fit(X, y).coef_\n",
    "lasso_coef"
   ]
  },
  {
   "cell_type": "code",
   "execution_count": 44,
   "id": "unauthorized-stanford",
   "metadata": {},
   "outputs": [
    {
     "data": {
      "image/png": "[encoded data removed]",
      "text/plain": [
       "<Figure size 432x288 with 1 Axes>"
      ]
     },
     "metadata": {},
     "output_type": "display_data"
    }
   ],
   "source": [
    "# график коэффициентов как и функции имени дает одно и то же значение\n",
    "_ = plt.plot(range(len(names)),lasso_coef)\n",
    "_ = plt.xticks(range(len(names)), names, rotation = 60)\n",
    "_ = plt.ylabel('Coefficients')\n",
    "plt.show()"
   ]
  },
  {
   "cell_type": "markdown",
   "id": "fallen-chambers",
   "metadata": {},
   "source": [
    "исходя из графика понимаем, что главным столбцом является коливество комнат"
   ]
  },
  {
   "cell_type": "code",
   "execution_count": null,
   "id": "waiting-gravity",
   "metadata": {},
   "outputs": [],
   "source": []
  }
 ],
 "metadata": {
  "kernelspec": {
   "display_name": "Python 3",
   "language": "python",
   "name": "python3"
  },
  "language_info": {
   "codemirror_mode": {
    "name": "ipython",
    "version": 3
   },
   "file_extension": ".py",
   "mimetype": "text/x-python",
   "name": "python",
   "nbconvert_exporter": "python",
   "pygments_lexer": "ipython3",
   "version": "3.9.2"
  }
 },
 "nbformat": 4,
 "nbformat_minor": 5
}

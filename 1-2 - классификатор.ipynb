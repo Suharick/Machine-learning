{
 "cells": [
  {
   "cell_type": "markdown",
   "id": "democratic-cameroon",
   "metadata": {},
   "source": [
    "## Создание классификатора"
   ]
  },
  {
   "cell_type": "code",
   "execution_count": 10,
   "id": "celtic-transformation",
   "metadata": {},
   "outputs": [],
   "source": [
    "from sklearn import datasets\n",
    "import pandas as pd\n",
    "import numpy as np\n",
    "import matplotlib.pyplot as plt\n",
    "plt.style.use('ggplot') #для красоты"
   ]
  },
  {
   "cell_type": "code",
   "execution_count": 11,
   "id": "sharp-novel",
   "metadata": {},
   "outputs": [],
   "source": [
    "iris = datasets.load_iris()"
   ]
  },
  {
   "cell_type": "markdown",
   "id": "paperback-recipe",
   "metadata": {},
   "source": []
  },
  {
   "cell_type": "code",
   "execution_count": 12,
   "id": "consolidated-upper",
   "metadata": {},
   "outputs": [],
   "source": [
    "from sklearn.neighbors import KNeighborsClassifier #из соседних точек sklearn"
   ]
  },
  {
   "cell_type": "code",
   "execution_count": 13,
   "id": "working-provincial",
   "metadata": {},
   "outputs": [],
   "source": [
    "# создаем экземпляр KNeighborsClassifier, устанавливаем кол-во соседей 6\n",
    "knn = KNeighborsClassifier(n_neighbors = 6)"
   ]
  },
  {
   "cell_type": "code",
   "execution_count": 14,
   "id": "aquatic-entertainment",
   "metadata": {},
   "outputs": [
    {
     "data": {
      "text/plain": [
       "KNeighborsClassifier(n_neighbors=6)"
      ]
     },
     "execution_count": 14,
     "metadata": {},
     "output_type": "execute_result"
    }
   ],
   "source": [
    "# подгоним этот классификатор к нашему обучающему набору\n",
    "# аргументы: функции как массив numpy и метки или цель как массив numpy\n",
    " \n",
    "knn.fit(iris['data'], iris['target'])"
   ]
  },
  {
   "cell_type": "code",
   "execution_count": 18,
   "id": "swedish-punch",
   "metadata": {},
   "outputs": [],
   "source": [
    "# необходимо, чтобы кол-во строк у данных и у целевой переменной совпадали"
   ]
  },
  {
   "cell_type": "code",
   "execution_count": 16,
   "id": "resident-journal",
   "metadata": {},
   "outputs": [
    {
     "data": {
      "text/plain": [
       "(150, 4)"
      ]
     },
     "execution_count": 16,
     "metadata": {},
     "output_type": "execute_result"
    }
   ],
   "source": [
    "iris['data'].shape"
   ]
  },
  {
   "cell_type": "code",
   "execution_count": 17,
   "id": "spread-october",
   "metadata": {},
   "outputs": [
    {
     "data": {
      "text/plain": [
       "(150,)"
      ]
     },
     "execution_count": 17,
     "metadata": {},
     "output_type": "execute_result"
    }
   ],
   "source": [
    "iris['target'].shape"
   ]
  },
  {
   "cell_type": "code",
   "execution_count": 19,
   "id": "soviet-pontiac",
   "metadata": {},
   "outputs": [],
   "source": [
    "# проверим, что возвращается, когда подбирается классификатор: это возвращает сам классификатор и изменяет его,\n",
    "# чтобы он соответствовал данным"
   ]
  },
  {
   "cell_type": "code",
   "execution_count": 20,
   "id": "appreciated-norfolk",
   "metadata": {},
   "outputs": [],
   "source": [
    "# используем классификатор для прогнозирования некоторых немаркерованных данных\n",
    "# зададим новый набор наблюдений\n",
    "\n",
    "X_new = np.array([[5.6, 2.8, 3.9, 1.1],\n",
    "                 [5.7, 2.6, 3.8, 1.3],\n",
    "                 [4.7, 3.2, 1.3, 0.2]])"
   ]
  },
  {
   "cell_type": "code",
   "execution_count": 21,
   "id": "flexible-virus",
   "metadata": {},
   "outputs": [],
   "source": [
    "prediction = knn.predict(X_new)"
   ]
  },
  {
   "cell_type": "code",
   "execution_count": 22,
   "id": "fossil-rally",
   "metadata": {},
   "outputs": [
    {
     "data": {
      "text/plain": [
       "(3, 4)"
      ]
     },
     "execution_count": 22,
     "metadata": {},
     "output_type": "execute_result"
    }
   ],
   "source": [
    "# проверяем размерность у новых данных: 3 строки (наблюдения) и 4 столбца (функции)\n",
    "X_new.shape"
   ]
  },
  {
   "cell_type": "code",
   "execution_count": 23,
   "id": "sorted-ecuador",
   "metadata": {},
   "outputs": [
    {
     "name": "stdout",
     "output_type": "stream",
     "text": [
      "Prediction: [1 1 0]\n"
     ]
    }
   ],
   "source": [
    "# выведем предсказанные значения для новых данных\n",
    "print('Prediction: {}'.format(prediction))"
   ]
  },
  {
   "cell_type": "markdown",
   "id": "geographic-trust",
   "metadata": {},
   "source": [
    "Кодировка целевой функции:\n",
    "\n",
    "- 0 \"setosa\"\n",
    "- 1 \"versicolor\"\n",
    "- 2 \"virginica\""
   ]
  },
  {
   "cell_type": "code",
   "execution_count": null,
   "id": "electric-emerald",
   "metadata": {},
   "outputs": [],
   "source": [
    "# Import KNeighborsClassifier from sklearn.neighbors\n",
    "from sklearn.neighbors import KNeighborsClassifier \n",
    "\n",
    "# Create arrays for the features and the response variable\n",
    "y = df['party']\n",
    "X = v\n",
    "\n",
    "# Create a k-NN classifier with 6 neighbors: knn\n",
    "knn = KNeighborsClassifier(n_neighbors=6)\n",
    "\n",
    "# Fit the classifier to the data\n",
    "knn.fit(X,y)\n",
    "\n",
    "# Predict the labels for the training data X\n",
    "y_pred = knn.predict(X)\n",
    "\n",
    "# Predict and print the label for the new data point X_new\n",
    "new_prediction = knn.predict(X_new)\n",
    "print(\"Prediction: {}\".format(new_prediction))"
   ]
  }
 ],
 "metadata": {
  "kernelspec": {
   "display_name": "Python 3",
   "language": "python",
   "name": "python3"
  },
  "language_info": {
   "codemirror_mode": {
    "name": "ipython",
    "version": 3
   },
   "file_extension": ".py",
   "mimetype": "text/x-python",
   "name": "python",
   "nbconvert_exporter": "python",
   "pygments_lexer": "ipython3",
   "version": "3.9.2"
  }
 },
 "nbformat": 4,
 "nbformat_minor": 5
}
